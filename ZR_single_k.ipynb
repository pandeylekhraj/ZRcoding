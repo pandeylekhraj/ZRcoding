{
 "cells": [
  {
   "cell_type": "code",
   "execution_count": 2,
   "metadata": {
    "scrolled": true
   },
   "outputs": [],
   "source": [
    "import math\n",
    "def pass1(C0,k,Z,p):\n",
    "    r = 0\n",
    "    C = np.empty((1,p),dtype=object)\n",
    "    for xi in range(0,int((1-Z)*p)):\n",
    "        x = double(xi)/p\n",
    "        r = r + C0[0,xi]\n",
    "        C[0, xi] = C0[0,xi]*(1-(1-k)*exp(-k*x/Z))\n",
    "        r = r - C[0, xi]\n",
    "    for xi in range(int((1-Z)*p-1),p-1):\n",
    "        x = double(xi)/p\n",
    "        r = r + C0[0,xi]\n",
    "        C[0,xi] = C0[0,xi]*(1-(1-k)*exp(-k*(1-Z)/Z))*math.pow((1-(x-(1-Z))/Z),(k-1))\n",
    "        r = r - C[0, xi]\n",
    "    C[0, p-1] = r\n",
    "    return C"
   ]
  },
  {
   "cell_type": "code",
   "execution_count": 3,
   "metadata": {},
   "outputs": [],
   "source": [
    "def passn(C1,k,Z,p):\n",
    "    Cn = np.empty((1,p),dtype=object)\n",
    "    \n",
    "    #Region 1 (X=0)\n",
    "    sum = 0\n",
    "    for xi in range(0,int(Z*p)):\n",
    "        sum = sum + C1[0,xi]\n",
    "    for xi in range(0,int(Z*p)):\n",
    "        Cn[0, xi] = k/Z/p*sum\n",
    "        \n",
    "    #Region 2 (0<X<=1-Z)\n",
    "    for xi in range(1,int((1-Z)*p)):\n",
    "        Cn[0,xi] = Cn[0, xi-1] + k/Z/p * (C1[0,xi+int(Z*p-1)] - Cn[0, xi-1])\n",
    "        \n",
    "    #Region 3 (1-Z<X<1)\n",
    "    sum = 0\n",
    "    for xi in range(0,int((1-Z)*p)):\n",
    "        sum = sum + C1[0,xi]\n",
    "    Cl = 1/Z - 1/Z/p * sum\n",
    "    for xi in range(int((1-Z)*p)-1,p):\n",
    "        x = double(xi)/p\n",
    "        Cn[0, xi] = Cl*(1-(1-k)*exp(-k*(1-Z)/Z))*math.pow((1-(x-(1-Z))/Z),(k-1))\n",
    "        \n",
    "    #Region 4 (X=1)\n",
    "    #r = 0;\n",
    "    #for xi in range(0,p-1):\n",
    "    #    r = r + Cn[0,xi]\n",
    "    \n",
    "    #Cn(p-1) = p - r\n",
    "\n",
    "    return Cn"
   ]
  },
  {
   "cell_type": "code",
   "execution_count": 4,
   "metadata": {},
   "outputs": [],
   "source": [
    "import numpy as np\n",
    "def zrK(C0,n,Z,ks,p):\n",
    "    #n  passes\n",
    "    #k  equilibrium\n",
    "    #z  zone width\n",
    "    #l  ingot length\n",
    "    #C0 initial solute concentration\n",
    "    #p  number of points/partitions\n",
    "    #Z  normalized zone width\n",
    "    Ks = np.empty((1, len(ks)), dtype=object)\n",
    "\n",
    "    for Ki in range(0,len(ks)):\n",
    "        k = ks[Ki]\n",
    "        #Cs solute concentration in refrozen solid\n",
    "        Cs = np.empty((1,n+1),dtype=object)\n",
    "        Cs[0,0] = np.ones((1,p))\n",
    "        Cs[0,1] = pass1(Cs[0,0],k,Z,p)\n",
    "\n",
    "        for i in range(2,n+1):\n",
    "            Cs[0,i] = passn(Cs[0,i-1],k,Z,p)\n",
    "                             \n",
    "        Va = np.zeros((1,n+1))                      \n",
    "        for i in range(0,n+1):\n",
    "            A = sorted(Cs[0,i],reverse=False)\n",
    "            sum = 0\n",
    "            \n",
    "            if k<1:\n",
    "                for j in range(0,int(0.8*p)):\n",
    "                    sum = sum + A[0][j]\n",
    "            else:\n",
    "                for j in range(int(0.2*p),p): #A[0][j] can not be None.\n",
    "                    sum = sum + A[0][j]\n",
    "                            \n",
    "            Va[0,i] = sum / (0.8*p)\n",
    "\n",
    "        Ks[0,Ki] = Va\n",
    "        \n",
    "    return Ks\n"
   ]
  },
  {
   "cell_type": "code",
   "execution_count": 5,
   "metadata": {},
   "outputs": [],
   "source": [
    "from pylab import *\n",
    "import matplotlib.pyplot as plot \n",
    "import numpy as np\n",
    "def plotPasses(C0,Ks,ks,n):\n",
    "\n",
    "    X = np.array(linspace(0,n,n+1))\n",
    "    \n",
    "    for i in range(0,len(ks)):\n",
    "        txt = 'k = '+str(ks[i])\n",
    "        plot.semilogy(X,np.transpose(Ks[0,i]*C0),label = txt)\n",
    "\n",
    "\n",
    "\n",
    "    plot.xlim([0,n])\n",
    "    #plot.ylim([0,C0])\n",
    "    plot.xlabel('Number of Passes')\n",
    "    plot.ylabel('Relative Impurity Concentration of Purest 80% of Ingot')\n",
    "    plt.legend()\n",
    "    plot.show()\n"
   ]
  },
  {
   "cell_type": "code",
   "execution_count": 8,
   "metadata": {
    "scrolled": true
   },
   "outputs": [
    {
     "data": {
      "image/png": "[encoded data removed]",
      "text/plain": [
       "<Figure size 432x288 with 1 Axes>"
      ]
     },
     "metadata": {
      "needs_background": "light"
     },
     "output_type": "display_data"
    }
   ],
   "source": [
    "C0 = 1.0E+13\n",
    "n = 30\n",
    "Z = 0.1\n",
    "ks = [0.1,0.3,1.8,2.5]\n",
    "p = 200\n",
    "Ks = zrK(C0,n,Z,ks,p)\n",
    "plotPasses(C0,Ks,ks,n)"
   ]
  },
  {
   "cell_type": "code",
   "execution_count": null,
   "metadata": {},
   "outputs": [],
   "source": []
  },
  {
   "cell_type": "code",
   "execution_count": null,
   "metadata": {},
   "outputs": [],
   "source": []
  },
  {
   "cell_type": "code",
   "execution_count": null,
   "metadata": {},
   "outputs": [],
   "source": []
  }
 ],
 "metadata": {
  "kernelspec": {
   "display_name": "Python 3",
   "language": "python",
   "name": "python3"
  },
  "language_info": {
   "codemirror_mode": {
    "name": "ipython",
    "version": 3
   },
   "file_extension": ".py",
   "mimetype": "text/x-python",
   "name": "python",
   "nbconvert_exporter": "python",
   "pygments_lexer": "ipython3",
   "version": "3.8.5"
  }
 },
 "nbformat": 4,
 "nbformat_minor": 4
}
